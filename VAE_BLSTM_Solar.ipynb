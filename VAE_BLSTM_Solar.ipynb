{
  "cells": [
    {
      "cell_type": "markdown",
      "metadata": {
        "id": "view-in-github",
        "colab_type": "text"
      },
      "source": [
        "<a href=\"https://colab.research.google.com/github/DevinderKaur/2D-graphics/blob/master/VAE_BLSTM_Solar.ipynb\" target=\"_parent\"><img src=\"https://colab.research.google.com/assets/colab-badge.svg\" alt=\"Open In Colab\"/></a>"
      ]
    },
    {
      "cell_type": "code",
      "execution_count": null,
      "metadata": {
        "id": "XUfmNoQFdzyj"
      },
      "outputs": [],
      "source": [
        "#To print the ex\n",
        "!pip install ipython-autotime\n",
        "%load_ext autotime"
      ]
    },
    {
      "cell_type": "code",
      "execution_count": 2,
      "metadata": {
        "colab": {
          "base_uri": "https://localhost:8080/"
        },
        "id": "XE4kVcrYHNr_",
        "outputId": "61f1cdca-4ef6-4da5-feae-832c3675b069"
      },
      "outputs": [
        {
          "output_type": "stream",
          "name": "stdout",
          "text": [
            "time: 574 µs (started: 2023-09-18 07:35:30 +00:00)\n"
          ]
        }
      ],
      "source": [
        "import warnings\n",
        "warnings.filterwarnings('ignore')"
      ]
    },
    {
      "cell_type": "code",
      "execution_count": 3,
      "metadata": {
        "colab": {
          "base_uri": "https://localhost:8080/"
        },
        "id": "-cXY9dmA2J0i",
        "outputId": "7ec27d25-711b-436c-e4bf-c75e8649d958"
      },
      "outputs": [
        {
          "output_type": "stream",
          "name": "stdout",
          "text": [
            "time: 8.11 s (started: 2023-09-18 07:35:31 +00:00)\n"
          ]
        }
      ],
      "source": [
        "#Import libraries\n",
        "import pandas as pd\n",
        "import numpy as np\n",
        "import matplotlib.pyplot as plt\n",
        "from sklearn.preprocessing import MinMaxScaler, StandardScaler\n",
        "from scipy import stats\n",
        "\n",
        "#TensorFlow\n",
        "import tensorflow as tf\n",
        "from tensorflow import keras\n",
        "from tensorflow.keras import Sequential, layers, callbacks\n",
        "from tensorflow.keras.layers import Dense, LSTM, Dropout, Bidirectional"
      ]
    },
    {
      "cell_type": "code",
      "execution_count": null,
      "metadata": {
        "colab": {
          "base_uri": "https://localhost:8080/"
        },
        "id": "Q-gxG9cCA7-0",
        "outputId": "066f027a-98a4-467d-be8e-fb47ee956951"
      },
      "outputs": [
        {
          "name": "stdout",
          "output_type": "stream",
          "text": [
            "SUCCESS: Found GPU: /device:GPU:0\n",
            "time: 2.96 s (started: 2023-09-18 07:09:11 +00:00)\n"
          ]
        }
      ],
      "source": [
        "#Check for GPU\n",
        "if tf.test.gpu_device_name() != '/device:GPU:0':\n",
        "  print('WARNING: GPU device not found.')\n",
        "else:\n",
        "  print('SUCCESS: Found GPU: {}'.format(tf.test.gpu_device_name()))"
      ]
    },
    {
      "cell_type": "code",
      "execution_count": null,
      "metadata": {
        "colab": {
          "base_uri": "https://localhost:8080/"
        },
        "id": "GaRX_zez5SXr",
        "outputId": "1eacc235-a822-4c19-beb3-66eae30af654"
      },
      "outputs": [
        {
          "name": "stdout",
          "output_type": "stream",
          "text": [
            "time: 576 µs (started: 2023-09-18 07:09:16 +00:00)\n"
          ]
        }
      ],
      "source": [
        "#Set the seed to reproduce\n",
        "tf.random.set_seed(1234)"
      ]
    },
    {
      "cell_type": "code",
      "execution_count": null,
      "metadata": {
        "colab": {
          "base_uri": "https://localhost:8080/",
          "height": 397
        },
        "id": "N3cFa1T25Ztn",
        "outputId": "c2846868-2998-4770-8be3-9eff32c7a9bb"
      },
      "outputs": [
        {
          "ename": "FileNotFoundError",
          "evalue": "ignored",
          "output_type": "error",
          "traceback": [
            "\u001b[0;31m---------------------------------------------------------------------------\u001b[0m",
            "\u001b[0;31mFileNotFoundError\u001b[0m                         Traceback (most recent call last)",
            "\u001b[0;32m<ipython-input-8-3060ba9a3a02>\u001b[0m in \u001b[0;36m<cell line: 1>\u001b[0;34m()\u001b[0m\n\u001b[0;32m----> 1\u001b[0;31m \u001b[0mdf\u001b[0m\u001b[0;34m=\u001b[0m\u001b[0mpd\u001b[0m\u001b[0;34m.\u001b[0m\u001b[0mread_csv\u001b[0m\u001b[0;34m(\u001b[0m\u001b[0;34m\"/content/AUSGRID_GG_2076.csv\"\u001b[0m\u001b[0;34m,\u001b[0m \u001b[0mindex_col\u001b[0m\u001b[0;34m=\u001b[0m\u001b[0;34m'Date'\u001b[0m\u001b[0;34m,\u001b[0m \u001b[0mparse_dates\u001b[0m\u001b[0;34m=\u001b[0m\u001b[0;34m[\u001b[0m\u001b[0;34m'Date'\u001b[0m\u001b[0;34m]\u001b[0m\u001b[0;34m)\u001b[0m\u001b[0;34m\u001b[0m\u001b[0;34m\u001b[0m\u001b[0m\n\u001b[0m\u001b[1;32m      2\u001b[0m \u001b[0mdf\u001b[0m\u001b[0;34m.\u001b[0m\u001b[0mhead\u001b[0m\u001b[0;34m(\u001b[0m\u001b[0;34m)\u001b[0m\u001b[0;34m\u001b[0m\u001b[0;34m\u001b[0m\u001b[0m\n\u001b[1;32m      3\u001b[0m \u001b[0mprint\u001b[0m\u001b[0;34m(\u001b[0m\u001b[0;34m\"shape: \"\u001b[0m\u001b[0;34m,\u001b[0m \u001b[0mdf\u001b[0m\u001b[0;34m.\u001b[0m\u001b[0mshape\u001b[0m\u001b[0;34m)\u001b[0m\u001b[0;34m\u001b[0m\u001b[0;34m\u001b[0m\u001b[0m\n",
            "\u001b[0;32m/usr/local/lib/python3.10/dist-packages/pandas/util/_decorators.py\u001b[0m in \u001b[0;36mwrapper\u001b[0;34m(*args, **kwargs)\u001b[0m\n\u001b[1;32m    209\u001b[0m                 \u001b[0;32melse\u001b[0m\u001b[0;34m:\u001b[0m\u001b[0;34m\u001b[0m\u001b[0;34m\u001b[0m\u001b[0m\n\u001b[1;32m    210\u001b[0m                     \u001b[0mkwargs\u001b[0m\u001b[0;34m[\u001b[0m\u001b[0mnew_arg_name\u001b[0m\u001b[0;34m]\u001b[0m \u001b[0;34m=\u001b[0m \u001b[0mnew_arg_value\u001b[0m\u001b[0;34m\u001b[0m\u001b[0;34m\u001b[0m\u001b[0m\n\u001b[0;32m--> 211\u001b[0;31m             \u001b[0;32mreturn\u001b[0m \u001b[0mfunc\u001b[0m\u001b[0;34m(\u001b[0m\u001b[0;34m*\u001b[0m\u001b[0margs\u001b[0m\u001b[0;34m,\u001b[0m \u001b[0;34m**\u001b[0m\u001b[0mkwargs\u001b[0m\u001b[0;34m)\u001b[0m\u001b[0;34m\u001b[0m\u001b[0;34m\u001b[0m\u001b[0m\n\u001b[0m\u001b[1;32m    212\u001b[0m \u001b[0;34m\u001b[0m\u001b[0m\n\u001b[1;32m    213\u001b[0m         \u001b[0;32mreturn\u001b[0m \u001b[0mcast\u001b[0m\u001b[0;34m(\u001b[0m\u001b[0mF\u001b[0m\u001b[0;34m,\u001b[0m \u001b[0mwrapper\u001b[0m\u001b[0;34m)\u001b[0m\u001b[0;34m\u001b[0m\u001b[0;34m\u001b[0m\u001b[0m\n",
            "\u001b[0;32m/usr/local/lib/python3.10/dist-packages/pandas/util/_decorators.py\u001b[0m in \u001b[0;36mwrapper\u001b[0;34m(*args, **kwargs)\u001b[0m\n\u001b[1;32m    329\u001b[0m                     \u001b[0mstacklevel\u001b[0m\u001b[0;34m=\u001b[0m\u001b[0mfind_stack_level\u001b[0m\u001b[0;34m(\u001b[0m\u001b[0;34m)\u001b[0m\u001b[0;34m,\u001b[0m\u001b[0;34m\u001b[0m\u001b[0;34m\u001b[0m\u001b[0m\n\u001b[1;32m    330\u001b[0m                 )\n\u001b[0;32m--> 331\u001b[0;31m             \u001b[0;32mreturn\u001b[0m \u001b[0mfunc\u001b[0m\u001b[0;34m(\u001b[0m\u001b[0;34m*\u001b[0m\u001b[0margs\u001b[0m\u001b[0;34m,\u001b[0m \u001b[0;34m**\u001b[0m\u001b[0mkwargs\u001b[0m\u001b[0;34m)\u001b[0m\u001b[0;34m\u001b[0m\u001b[0;34m\u001b[0m\u001b[0m\n\u001b[0m\u001b[1;32m    332\u001b[0m \u001b[0;34m\u001b[0m\u001b[0m\n\u001b[1;32m    333\u001b[0m         \u001b[0;31m# error: \"Callable[[VarArg(Any), KwArg(Any)], Any]\" has no\u001b[0m\u001b[0;34m\u001b[0m\u001b[0;34m\u001b[0m\u001b[0m\n",
            "\u001b[0;32m/usr/local/lib/python3.10/dist-packages/pandas/io/parsers/readers.py\u001b[0m in \u001b[0;36mread_csv\u001b[0;34m(filepath_or_buffer, sep, delimiter, header, names, index_col, usecols, squeeze, prefix, mangle_dupe_cols, dtype, engine, converters, true_values, false_values, skipinitialspace, skiprows, skipfooter, nrows, na_values, keep_default_na, na_filter, verbose, skip_blank_lines, parse_dates, infer_datetime_format, keep_date_col, date_parser, dayfirst, cache_dates, iterator, chunksize, compression, thousands, decimal, lineterminator, quotechar, quoting, doublequote, escapechar, comment, encoding, encoding_errors, dialect, error_bad_lines, warn_bad_lines, on_bad_lines, delim_whitespace, low_memory, memory_map, float_precision, storage_options)\u001b[0m\n\u001b[1;32m    948\u001b[0m     \u001b[0mkwds\u001b[0m\u001b[0;34m.\u001b[0m\u001b[0mupdate\u001b[0m\u001b[0;34m(\u001b[0m\u001b[0mkwds_defaults\u001b[0m\u001b[0;34m)\u001b[0m\u001b[0;34m\u001b[0m\u001b[0;34m\u001b[0m\u001b[0m\n\u001b[1;32m    949\u001b[0m \u001b[0;34m\u001b[0m\u001b[0m\n\u001b[0;32m--> 950\u001b[0;31m     \u001b[0;32mreturn\u001b[0m \u001b[0m_read\u001b[0m\u001b[0;34m(\u001b[0m\u001b[0mfilepath_or_buffer\u001b[0m\u001b[0;34m,\u001b[0m \u001b[0mkwds\u001b[0m\u001b[0;34m)\u001b[0m\u001b[0;34m\u001b[0m\u001b[0;34m\u001b[0m\u001b[0m\n\u001b[0m\u001b[1;32m    951\u001b[0m \u001b[0;34m\u001b[0m\u001b[0m\n\u001b[1;32m    952\u001b[0m \u001b[0;34m\u001b[0m\u001b[0m\n",
            "\u001b[0;32m/usr/local/lib/python3.10/dist-packages/pandas/io/parsers/readers.py\u001b[0m in \u001b[0;36m_read\u001b[0;34m(filepath_or_buffer, kwds)\u001b[0m\n\u001b[1;32m    603\u001b[0m \u001b[0;34m\u001b[0m\u001b[0m\n\u001b[1;32m    604\u001b[0m     \u001b[0;31m# Create the parser.\u001b[0m\u001b[0;34m\u001b[0m\u001b[0;34m\u001b[0m\u001b[0m\n\u001b[0;32m--> 605\u001b[0;31m     \u001b[0mparser\u001b[0m \u001b[0;34m=\u001b[0m \u001b[0mTextFileReader\u001b[0m\u001b[0;34m(\u001b[0m\u001b[0mfilepath_or_buffer\u001b[0m\u001b[0;34m,\u001b[0m \u001b[0;34m**\u001b[0m\u001b[0mkwds\u001b[0m\u001b[0;34m)\u001b[0m\u001b[0;34m\u001b[0m\u001b[0;34m\u001b[0m\u001b[0m\n\u001b[0m\u001b[1;32m    606\u001b[0m \u001b[0;34m\u001b[0m\u001b[0m\n\u001b[1;32m    607\u001b[0m     \u001b[0;32mif\u001b[0m \u001b[0mchunksize\u001b[0m \u001b[0;32mor\u001b[0m \u001b[0miterator\u001b[0m\u001b[0;34m:\u001b[0m\u001b[0;34m\u001b[0m\u001b[0;34m\u001b[0m\u001b[0m\n",
            "\u001b[0;32m/usr/local/lib/python3.10/dist-packages/pandas/io/parsers/readers.py\u001b[0m in \u001b[0;36m__init__\u001b[0;34m(self, f, engine, **kwds)\u001b[0m\n\u001b[1;32m   1440\u001b[0m \u001b[0;34m\u001b[0m\u001b[0m\n\u001b[1;32m   1441\u001b[0m         \u001b[0mself\u001b[0m\u001b[0;34m.\u001b[0m\u001b[0mhandles\u001b[0m\u001b[0;34m:\u001b[0m \u001b[0mIOHandles\u001b[0m \u001b[0;34m|\u001b[0m \u001b[0;32mNone\u001b[0m \u001b[0;34m=\u001b[0m \u001b[0;32mNone\u001b[0m\u001b[0;34m\u001b[0m\u001b[0;34m\u001b[0m\u001b[0m\n\u001b[0;32m-> 1442\u001b[0;31m         \u001b[0mself\u001b[0m\u001b[0;34m.\u001b[0m\u001b[0m_engine\u001b[0m \u001b[0;34m=\u001b[0m \u001b[0mself\u001b[0m\u001b[0;34m.\u001b[0m\u001b[0m_make_engine\u001b[0m\u001b[0;34m(\u001b[0m\u001b[0mf\u001b[0m\u001b[0;34m,\u001b[0m \u001b[0mself\u001b[0m\u001b[0;34m.\u001b[0m\u001b[0mengine\u001b[0m\u001b[0;34m)\u001b[0m\u001b[0;34m\u001b[0m\u001b[0;34m\u001b[0m\u001b[0m\n\u001b[0m\u001b[1;32m   1443\u001b[0m \u001b[0;34m\u001b[0m\u001b[0m\n\u001b[1;32m   1444\u001b[0m     \u001b[0;32mdef\u001b[0m \u001b[0mclose\u001b[0m\u001b[0;34m(\u001b[0m\u001b[0mself\u001b[0m\u001b[0;34m)\u001b[0m \u001b[0;34m->\u001b[0m \u001b[0;32mNone\u001b[0m\u001b[0;34m:\u001b[0m\u001b[0;34m\u001b[0m\u001b[0;34m\u001b[0m\u001b[0m\n",
            "\u001b[0;32m/usr/local/lib/python3.10/dist-packages/pandas/io/parsers/readers.py\u001b[0m in \u001b[0;36m_make_engine\u001b[0;34m(self, f, engine)\u001b[0m\n\u001b[1;32m   1733\u001b[0m                 \u001b[0;32mif\u001b[0m \u001b[0;34m\"b\"\u001b[0m \u001b[0;32mnot\u001b[0m \u001b[0;32min\u001b[0m \u001b[0mmode\u001b[0m\u001b[0;34m:\u001b[0m\u001b[0;34m\u001b[0m\u001b[0;34m\u001b[0m\u001b[0m\n\u001b[1;32m   1734\u001b[0m                     \u001b[0mmode\u001b[0m \u001b[0;34m+=\u001b[0m \u001b[0;34m\"b\"\u001b[0m\u001b[0;34m\u001b[0m\u001b[0;34m\u001b[0m\u001b[0m\n\u001b[0;32m-> 1735\u001b[0;31m             self.handles = get_handle(\n\u001b[0m\u001b[1;32m   1736\u001b[0m                 \u001b[0mf\u001b[0m\u001b[0;34m,\u001b[0m\u001b[0;34m\u001b[0m\u001b[0;34m\u001b[0m\u001b[0m\n\u001b[1;32m   1737\u001b[0m                 \u001b[0mmode\u001b[0m\u001b[0;34m,\u001b[0m\u001b[0;34m\u001b[0m\u001b[0;34m\u001b[0m\u001b[0m\n",
            "\u001b[0;32m/usr/local/lib/python3.10/dist-packages/pandas/io/common.py\u001b[0m in \u001b[0;36mget_handle\u001b[0;34m(path_or_buf, mode, encoding, compression, memory_map, is_text, errors, storage_options)\u001b[0m\n\u001b[1;32m    854\u001b[0m         \u001b[0;32mif\u001b[0m \u001b[0mioargs\u001b[0m\u001b[0;34m.\u001b[0m\u001b[0mencoding\u001b[0m \u001b[0;32mand\u001b[0m \u001b[0;34m\"b\"\u001b[0m \u001b[0;32mnot\u001b[0m \u001b[0;32min\u001b[0m \u001b[0mioargs\u001b[0m\u001b[0;34m.\u001b[0m\u001b[0mmode\u001b[0m\u001b[0;34m:\u001b[0m\u001b[0;34m\u001b[0m\u001b[0;34m\u001b[0m\u001b[0m\n\u001b[1;32m    855\u001b[0m             \u001b[0;31m# Encoding\u001b[0m\u001b[0;34m\u001b[0m\u001b[0;34m\u001b[0m\u001b[0m\n\u001b[0;32m--> 856\u001b[0;31m             handle = open(\n\u001b[0m\u001b[1;32m    857\u001b[0m                 \u001b[0mhandle\u001b[0m\u001b[0;34m,\u001b[0m\u001b[0;34m\u001b[0m\u001b[0;34m\u001b[0m\u001b[0m\n\u001b[1;32m    858\u001b[0m                 \u001b[0mioargs\u001b[0m\u001b[0;34m.\u001b[0m\u001b[0mmode\u001b[0m\u001b[0;34m,\u001b[0m\u001b[0;34m\u001b[0m\u001b[0;34m\u001b[0m\u001b[0m\n",
            "\u001b[0;31mFileNotFoundError\u001b[0m: [Errno 2] No such file or directory: '/content/AUSGRID_GG_2076.csv'"
          ]
        },
        {
          "name": "stdout",
          "output_type": "stream",
          "text": [
            "time: 345 ms (started: 2023-09-18 07:31:39 +00:00)\n"
          ]
        }
      ],
      "source": [
        "df=pd.read_csv(\"/content/AUSGRID_GG_2076.csv\", index_col='Date', parse_dates=['Date'])\n",
        "df.head()\n",
        "print(\"shape: \", df.shape)"
      ]
    },
    {
      "cell_type": "code",
      "execution_count": null,
      "metadata": {
        "id": "wppY0XI25vuz"
      },
      "outputs": [],
      "source": [
        "print(df)\n",
        "print(df.shape)"
      ]
    },
    {
      "cell_type": "code",
      "execution_count": null,
      "metadata": {
        "colab": {
          "base_uri": "https://localhost:8080/",
          "height": 300
        },
        "id": "u5EXJamt5-hi",
        "outputId": "1e107570-c46f-4d15-8e87-d8d0c924f98b"
      },
      "outputs": [
        {
          "data": {
            "text/plain": [
              "[<matplotlib.lines.Line2D at 0x7f78d00aa790>]"
            ]
          },
          "execution_count": 8,
          "metadata": {
            "tags": []
          },
          "output_type": "execute_result"
        },
        {
          "data": {
            "image/png": "[encoded data removed]",
            "text/plain": [
              "<Figure size 432x288 with 1 Axes>"
            ]
          },
          "metadata": {
            "tags": []
          },
          "output_type": "display_data"
        },
        {
          "name": "stdout",
          "output_type": "stream",
          "text": [
            "time: 193 ms (started: 2021-03-15 01:53:54 +00:00)\n"
          ]
        }
      ],
      "source": [
        "'''plot the data'''\n",
        "plt.plot(df['GG'])"
      ]
    },
    {
      "cell_type": "code",
      "execution_count": null,
      "metadata": {
        "colab": {
          "base_uri": "https://localhost:8080/"
        },
        "id": "1MEkzyYb6WhI",
        "outputId": "a63916b8-6020-4b05-fa95-fbf7d73e3a59"
      },
      "outputs": [
        {
          "name": "stdout",
          "output_type": "stream",
          "text": [
            "0\n",
            "time: 3.75 ms (started: 2021-03-15 01:53:58 +00:00)\n"
          ]
        }
      ],
      "source": [
        "'''pre-process the data, null values'''\n",
        "#df=df.loc[:,['Date','GG']]\n",
        "print(df.GG.isna().sum())"
      ]
    },
    {
      "cell_type": "code",
      "execution_count": null,
      "metadata": {
        "colab": {
          "base_uri": "https://localhost:8080/"
        },
        "id": "Uuin9g3T-sw3",
        "outputId": "464e0960-ad1e-4324-e7ab-fc54f2f16a1a"
      },
      "outputs": [
        {
          "name": "stdout",
          "output_type": "stream",
          "text": [
            "time: 767 µs (started: 2021-03-15 01:53:59 +00:00)\n"
          ]
        }
      ],
      "source": [
        "import sklearn.preprocessing\n",
        "from sklearn.preprocessing import MinMaxScaler"
      ]
    },
    {
      "cell_type": "code",
      "execution_count": null,
      "metadata": {
        "colab": {
          "base_uri": "https://localhost:8080/"
        },
        "id": "65vOuTQ7JfhK",
        "outputId": "20aad702-73d3-4bc9-fe3b-596f437f977a"
      },
      "outputs": [
        {
          "name": "stdout",
          "output_type": "stream",
          "text": [
            "             GG\n",
            "Date           \n",
            "2011-07-01  0.0\n",
            "2011-07-01  0.0\n",
            "2011-07-01  0.0\n",
            "2011-07-01  0.0\n",
            "2011-07-01  0.0\n",
            "...         ...\n",
            "2012-06-30  0.0\n",
            "2012-06-30  0.0\n",
            "2012-06-30  0.0\n",
            "2012-06-30  0.0\n",
            "2012-07-01  0.0\n",
            "\n",
            "[17568 rows x 1 columns]\n",
            "time: 14.7 ms (started: 2021-03-15 01:54:00 +00:00)\n"
          ]
        }
      ],
      "source": [
        "import sklearn\n",
        "def normalize_data(df):\n",
        "    scaler = sklearn.preprocessing.MinMaxScaler()\n",
        "    df['GG']=scaler.fit_transform(df['GG'].values.reshape(-1,1))\n",
        "    return df\n",
        "df = normalize_data(df)\n",
        "df.shape\n",
        "print(df)"
      ]
    },
    {
      "cell_type": "code",
      "execution_count": null,
      "metadata": {
        "colab": {
          "base_uri": "https://localhost:8080/"
        },
        "id": "UohDSUnL89MM",
        "outputId": "dd31534e-f603-43ea-dcc9-3e3ca642673b"
      },
      "outputs": [
        {
          "name": "stdout",
          "output_type": "stream",
          "text": [
            "time: 2.22 ms (started: 2021-03-12 07:07:26 +00:00)\n"
          ]
        }
      ],
      "source": [
        "'''split the data\n",
        "train_size=int(len(df)*0.8)\n",
        "train_data=df.iloc[:train_size]\n",
        "test_data=df.iloc[train_size:]"
      ]
    },
    {
      "cell_type": "code",
      "execution_count": null,
      "metadata": {
        "colab": {
          "base_uri": "https://localhost:8080/"
        },
        "id": "Ccvbpynz9LUL",
        "outputId": "61e809c6-b82e-449c-fa2d-522902c88c7e"
      },
      "outputs": [
        {
          "name": "stdout",
          "output_type": "stream",
          "text": [
            "time: 5.24 ms (started: 2021-03-12 07:07:28 +00:00)\n"
          ]
        }
      ],
      "source": [
        "'''scale the data\n",
        "scaler=MinMaxScaler().fit(df)\n",
        "df=scaler.transform(df)\n",
        "test_scaled=scaler.transform(test_data)"
      ]
    },
    {
      "cell_type": "code",
      "execution_count": null,
      "metadata": {
        "id": "fu5oOhby94q7"
      },
      "outputs": [],
      "source": [
        "'''create input datasets\n",
        "def create_dataset(X,look_back=1):\n",
        "  XS, YS =[],[]\n",
        "\n",
        "  for i in range(len(X)-look_back):\n",
        "    v=X[i:i+look_back]\n",
        "    XS.append(v)\n",
        "    YS.append(X[i+look_back])\n",
        "  return np.array(XS), np.array(YS)\n",
        "\n",
        "x_train, y_train=create_dataset(train_scaled,48)\n",
        "x_test, y_test=create_dataset(test_scaled,48)\n",
        "\n",
        "print('x_train:',x_train.shape)\n",
        "print('y_train:',y_train.shape)\n",
        "print('x_test:',x_test.shape)\n",
        "print('y_test:',y_test.shape)'''"
      ]
    },
    {
      "cell_type": "code",
      "execution_count": null,
      "metadata": {
        "colab": {
          "base_uri": "https://localhost:8080/"
        },
        "id": "_mkoYWDzrMDb",
        "outputId": "98115460-09db-4458-b794-3b0e5d1980cf"
      },
      "outputs": [
        {
          "name": "stdout",
          "output_type": "stream",
          "text": [
            "time: 1.34 ms (started: 2021-03-12 05:33:48 +00:00)\n"
          ]
        }
      ],
      "source": [
        "'''y_test_original=scaler.inverse_transform(y_test)"
      ]
    },
    {
      "cell_type": "code",
      "execution_count": null,
      "metadata": {
        "colab": {
          "base_uri": "https://localhost:8080/"
        },
        "id": "8E7BVKsiJnnu",
        "outputId": "522a9996-6329-4472-ede2-bf2794c0cc99"
      },
      "outputs": [
        {
          "name": "stdout",
          "output_type": "stream",
          "text": [
            "time: 15 ms (started: 2021-03-15 01:54:05 +00:00)\n"
          ]
        }
      ],
      "source": [
        "def load_data(stock, seq_len):\n",
        "    x_train = []\n",
        "    y_train = []\n",
        "    for i in range(seq_len, len(stock)):\n",
        "        x_train.append(stock.iloc[i - seq_len: i, 0])\n",
        "        y_train.append(stock.iloc[i, 0])\n",
        "\n",
        "    # last 3000 days are going to be used in test\n",
        "    x_test = x_train[14000:]\n",
        "    y_test = y_train[14000:]\n",
        "\n",
        "    # first 7000 days are going to be used in training\n",
        "    x_train = x_train[:3484]\n",
        "    y_train = y_train[:3484]\n",
        "\n",
        "    # convert to numpy array\n",
        "    x_train = np.array(x_train)\n",
        "    y_train = np.array(y_train)\n",
        "\n",
        "    x_test = np.array(x_test)\n",
        "    y_test = np.array(y_test)\n",
        "\n",
        "    # 4 reshape data to input into RNN models\n",
        "    x_train = np.reshape(x_train, (3484, seq_len, 1))\n",
        "\n",
        "    x_test = np.reshape(x_test, (x_test.shape[0], seq_len, 1))\n",
        "\n",
        "    return [x_train, y_train, x_test, y_test]"
      ]
    },
    {
      "cell_type": "code",
      "execution_count": null,
      "metadata": {
        "colab": {
          "base_uri": "https://localhost:8080/"
        },
        "id": "fbEE0EbOJurX",
        "outputId": "9cd72925-d455-4bb3-fb22-ad3280c01bde"
      },
      "outputs": [
        {
          "name": "stdout",
          "output_type": "stream",
          "text": [
            "time: 1.18 s (started: 2021-03-15 00:13:11 +00:00)\n"
          ]
        }
      ],
      "source": [
        "x_train, y_train, x_test, y_test=load_data(df,96)"
      ]
    },
    {
      "cell_type": "code",
      "execution_count": null,
      "metadata": {
        "colab": {
          "base_uri": "https://localhost:8080/"
        },
        "id": "oeKNgQggJzU3",
        "outputId": "8ac4d8ff-cbf7-43aa-fd9e-6ce9d93cbec5"
      },
      "outputs": [
        {
          "name": "stdout",
          "output_type": "stream",
          "text": [
            "x_train: (3484, 96, 1)\n",
            "y_train: (3484,)\n",
            "x_test: (835, 96, 1)\n",
            "y_test: (835,)\n",
            "time: 3.81 ms (started: 2021-03-15 00:13:12 +00:00)\n"
          ]
        }
      ],
      "source": [
        "print('x_train:',x_train.shape)\n",
        "print('y_train:',y_train.shape)\n",
        "print('x_test:',x_test.shape)\n",
        "print('y_test:',y_test.shape)"
      ]
    },
    {
      "cell_type": "code",
      "execution_count": null,
      "metadata": {
        "colab": {
          "base_uri": "https://localhost:8080/"
        },
        "id": "mP_EMp2lVvvg",
        "outputId": "fa6c17c1-c79b-4fa8-b8f7-217b7ff42e38"
      },
      "outputs": [
        {
          "name": "stdout",
          "output_type": "stream",
          "text": [
            "time: 1.84 ms (started: 2021-03-15 00:13:16 +00:00)\n"
          ]
        }
      ],
      "source": [
        "input_dim=96\n",
        "latent_dim=24\n",
        "future_dim=1"
      ]
    },
    {
      "cell_type": "code",
      "execution_count": null,
      "metadata": {
        "colab": {
          "base_uri": "https://localhost:8080/"
        },
        "id": "s6e5dnTaV9z9",
        "outputId": "88996c5b-73ff-4977-ec0c-982e7753cce6"
      },
      "outputs": [
        {
          "name": "stdout",
          "output_type": "stream",
          "text": [
            "time: 48.4 ms (started: 2021-03-15 00:13:18 +00:00)\n"
          ]
        }
      ],
      "source": [
        "import keras.backend as K"
      ]
    },
    {
      "cell_type": "code",
      "execution_count": null,
      "metadata": {
        "colab": {
          "base_uri": "https://localhost:8080/"
        },
        "id": "Id4idsU1V_Ve",
        "outputId": "d5204704-5d24-4804-fcb9-14e06f842b80"
      },
      "outputs": [
        {
          "name": "stdout",
          "output_type": "stream",
          "text": [
            "time: 71.8 ms (started: 2021-03-15 00:13:18 +00:00)\n"
          ]
        }
      ],
      "source": [
        "X = K.random_normal(shape=(x_train.shape[0], x_train.shape[1]),\n",
        "                              mean=0., stddev=0.1)"
      ]
    },
    {
      "cell_type": "code",
      "execution_count": null,
      "metadata": {
        "id": "OxwjrKdqWB83"
      },
      "outputs": [],
      "source": [
        "print(X.shape)\n",
        "print(X)"
      ]
    },
    {
      "cell_type": "code",
      "execution_count": null,
      "metadata": {
        "colab": {
          "base_uri": "https://localhost:8080/"
        },
        "id": "Jll2If1NWSwd",
        "outputId": "456739f8-0880-4348-c11a-13265b761237"
      },
      "outputs": [
        {
          "name": "stdout",
          "output_type": "stream",
          "text": [
            "time: 2.33 ms (started: 2021-03-15 00:13:20 +00:00)\n"
          ]
        }
      ],
      "source": [
        "tfk=tf.keras\n",
        "tfkl=tfk.layers"
      ]
    },
    {
      "cell_type": "code",
      "execution_count": null,
      "metadata": {
        "colab": {
          "base_uri": "https://localhost:8080/"
        },
        "id": "yCPxTDV5WINl",
        "outputId": "e84493de-1889-4b7c-d633-61c2fde5d5b7"
      },
      "outputs": [
        {
          "name": "stdout",
          "output_type": "stream",
          "text": [
            "time: 269 ms (started: 2021-03-15 00:13:21 +00:00)\n"
          ]
        }
      ],
      "source": [
        "#encoder network\n",
        "inputs = keras.Input(shape=(x_train.shape[1],x_train.shape[2]))\n",
        "#intermediate layer\n",
        "h = tfkl.Bidirectional(LSTM(latent_dim, activation='relu'))(inputs)\n",
        "z_mean = tfkl.Dense(latent_dim)(h)\n",
        "z_log_sigma = tfkl.Dense(latent_dim)(h)\n",
        "#z = tfkl.Lambda(sampling)([z_mean, z_log_sigma])"
      ]
    },
    {
      "cell_type": "code",
      "execution_count": null,
      "metadata": {
        "colab": {
          "base_uri": "https://localhost:8080/"
        },
        "id": "4NQgDHnRWZ8t",
        "outputId": "783e9cad-e6e8-4e27-c692-9b98031a0fb2"
      },
      "outputs": [
        {
          "name": "stdout",
          "output_type": "stream",
          "text": [
            "time: 22 ms (started: 2021-03-15 00:13:40 +00:00)\n"
          ]
        }
      ],
      "source": [
        "from keras import backend as K\n",
        "#sampling function\n",
        "def sampling(args):\n",
        "    z_mean, z_log_sigma = args\n",
        "    batch_size=tf.shape(z_mean)[0]\n",
        "    epsilon = K.random_normal(shape=(batch_size, latent_dim),\n",
        "                              mean=0., stddev=0.1)\n",
        "    return z_mean + K.exp(z_log_sigma) * epsilon\n",
        "\n",
        "z = tfkl.Lambda(sampling)([z_mean, z_log_sigma])"
      ]
    },
    {
      "cell_type": "code",
      "execution_count": null,
      "metadata": {
        "colab": {
          "base_uri": "https://localhost:8080/"
        },
        "id": "CpoyyAVIWcrk",
        "outputId": "6a0dbbf9-93d6-415f-8b3e-5bd42917a279"
      },
      "outputs": [
        {
          "name": "stdout",
          "output_type": "stream",
          "text": [
            "time: 241 ms (started: 2021-03-15 00:13:47 +00:00)\n"
          ]
        }
      ],
      "source": [
        "decoder1=tfkl.RepeatVector(x_train.shape[1])(z)\n",
        "decoder1=tfkl.Bidirectional(LSTM(input_dim,activation='relu',return_sequences=True))(decoder1)\n",
        "decoder1=tfkl.TimeDistributed(tfkl.Dense(x_train.shape[2]))(decoder1)"
      ]
    },
    {
      "cell_type": "code",
      "execution_count": null,
      "metadata": {
        "colab": {
          "base_uri": "https://localhost:8080/"
        },
        "id": "_J6dc9lvWez1",
        "outputId": "38437a16-80fc-4dd4-a4f1-db355d917cbd"
      },
      "outputs": [
        {
          "name": "stdout",
          "output_type": "stream",
          "text": [
            "time: 5.37 ms (started: 2021-03-15 00:13:48 +00:00)\n"
          ]
        }
      ],
      "source": [
        "def vae_loss2(inputs, decoder1, z_log_sigma, z_mean):\n",
        "    \"\"\" Calculate loss = reconstruction loss + KL loss for each data \"\"\"\n",
        "    # E[log P(X|z)]\n",
        "    recon = K.sum(K.binary_crossentropy(inputs, decoder1))\n",
        "    print(recon)\n",
        "    # D_KL(Q(z|X) || P(z|X)); calculate in closed form as both dist. are Gaussian\n",
        "    kl = 0.5 * K.sum(K.exp(z_log_sigma) + K.square(z_mean) - 1. - z_log_sigma)\n",
        "    return recon + kl"
      ]
    },
    {
      "cell_type": "code",
      "execution_count": null,
      "metadata": {
        "colab": {
          "base_uri": "https://localhost:8080/"
        },
        "id": "2GMmX7XTWg-8",
        "outputId": "327dea01-7d67-4fb5-899e-0c691f90118d"
      },
      "outputs": [
        {
          "name": "stdout",
          "output_type": "stream",
          "text": [
            "time: 14.1 ms (started: 2021-03-15 00:13:49 +00:00)\n"
          ]
        }
      ],
      "source": [
        "vae=tfk.Model(inputs, decoder1)"
      ]
    },
    {
      "cell_type": "code",
      "execution_count": null,
      "metadata": {
        "colab": {
          "base_uri": "https://localhost:8080/"
        },
        "id": "XCfiKM9yWi19",
        "outputId": "8ad8479f-e863-4944-c71c-abafa53fc2ea"
      },
      "outputs": [
        {
          "name": "stdout",
          "output_type": "stream",
          "text": [
            "KerasTensor(type_spec=TensorSpec(shape=(), dtype=tf.float32, name=None), name='tf.math.reduce_sum/Sum:0', description=\"created by layer 'tf.math.reduce_sum'\")\n",
            "time: 158 ms (started: 2021-03-15 00:13:51 +00:00)\n"
          ]
        }
      ],
      "source": [
        "vae_loss=vae.add_loss(vae_loss2(inputs, decoder1, z_log_sigma, z_mean))\n",
        "vae.compile(loss=vae_loss, optimizer='adam')"
      ]
    },
    {
      "cell_type": "code",
      "execution_count": null,
      "metadata": {
        "colab": {
          "base_uri": "https://localhost:8080/"
        },
        "id": "3lsV1O0coOv-",
        "outputId": "8146a456-c946-4d48-9ec7-6361658d7d5f"
      },
      "outputs": [
        {
          "name": "stdout",
          "output_type": "stream",
          "text": [
            "time: 1.9 ms (started: 2021-03-15 00:13:52 +00:00)\n"
          ]
        }
      ],
      "source": [
        "early_stop=keras.callbacks.EarlyStopping(monitor='val_loss',patience=10)"
      ]
    },
    {
      "cell_type": "code",
      "execution_count": null,
      "metadata": {
        "id": "RQSzmImIWkzc"
      },
      "outputs": [],
      "source": [
        "vae_history=vae.fit(X,X, batch_size=100, epochs=50,validation_split=0.2, callbacks=[early_stop])"
      ]
    },
    {
      "cell_type": "code",
      "execution_count": null,
      "metadata": {
        "id": "gIsseTsxWvsI"
      },
      "outputs": [],
      "source": [
        "vae.summary()"
      ]
    },
    {
      "cell_type": "code",
      "execution_count": null,
      "metadata": {
        "colab": {
          "base_uri": "https://localhost:8080/",
          "height": 435
        },
        "id": "rNK4An6jsaeI",
        "outputId": "3f3ecbf4-f345-4962-e1f2-ffa77279b53e"
      },
      "outputs": [
        {
          "name": "stdout",
          "output_type": "stream",
          "text": [
            "[[0.23374486]\n",
            " [0.15308523]\n",
            " [0.12345241]\n",
            " ...\n",
            " [0.41740151]\n",
            " [0.37115902]\n",
            " [0.31368536]]\n"
          ]
        },
        {
          "data": {
            "image/png": "[encoded data removed]",
            "text/plain": [
              "<Figure size 432x288 with 1 Axes>"
            ]
          },
          "metadata": {
            "tags": []
          },
          "output_type": "display_data"
        },
        {
          "name": "stdout",
          "output_type": "stream",
          "text": [
            "Reconstruction error threshold:  0.5051661686943918\n",
            "time: 5.33 s (started: 2021-03-15 00:16:26 +00:00)\n"
          ]
        }
      ],
      "source": [
        "##printing the reconstruction loss####\n",
        "x_train_pred = vae.predict(x_train)\n",
        "train_mae_loss = np.mean(np.abs(x_train_pred - x_train), axis=1)\n",
        "print(train_mae_loss)\n",
        "plt.hist(train_mae_loss, bins=50)\n",
        "plt.xlabel(\"Train MAE loss\")\n",
        "plt.ylabel(\"No of samples\")\n",
        "plt.show()\n",
        "\n",
        "# Get reconstruction loss threshold.\n",
        "threshold = np.max(train_mae_loss)\n",
        "print(\"Reconstruction error threshold: \", threshold)"
      ]
    },
    {
      "cell_type": "code",
      "execution_count": null,
      "metadata": {
        "id": "kYQy2KKkWoC_"
      },
      "outputs": [],
      "source": [
        "# LETS DO THE FORECASTING NOW"
      ]
    },
    {
      "cell_type": "code",
      "execution_count": null,
      "metadata": {
        "colab": {
          "base_uri": "https://localhost:8080/"
        },
        "id": "gUAKWqgd7qET",
        "outputId": "2894e9c8-c5be-46a4-e698-0e1b9798a1bc"
      },
      "outputs": [
        {
          "name": "stdout",
          "output_type": "stream",
          "text": [
            "time: 880 ms (started: 2021-03-15 00:16:38 +00:00)\n"
          ]
        }
      ],
      "source": [
        "import tensorflow_probability as tfp\n",
        "tfpl=tfp.layers\n",
        "tfd=tfp.distributions"
      ]
    },
    {
      "cell_type": "code",
      "execution_count": null,
      "metadata": {
        "colab": {
          "base_uri": "https://localhost:8080/"
        },
        "id": "--gEkd2uuMB_",
        "outputId": "1eff348b-4d20-4969-f11e-a0a9c83eb672"
      },
      "outputs": [
        {
          "name": "stdout",
          "output_type": "stream",
          "text": [
            "time: 14.3 ms (started: 2021-03-15 00:16:39 +00:00)\n"
          ]
        }
      ],
      "source": [
        "forecasting=tfkl.Dense(1)(z)"
      ]
    },
    {
      "cell_type": "code",
      "execution_count": null,
      "metadata": {
        "colab": {
          "base_uri": "https://localhost:8080/"
        },
        "id": "SoI6ASWybafO",
        "outputId": "19341f1d-4638-462b-f9d7-5af3872e5278"
      },
      "outputs": [
        {
          "name": "stdout",
          "output_type": "stream",
          "text": [
            "time: 7 ms (started: 2021-03-15 00:16:40 +00:00)\n"
          ]
        }
      ],
      "source": [
        "forecast=tfk.Model(inputs=inputs,outputs=forecasting)"
      ]
    },
    {
      "cell_type": "code",
      "execution_count": null,
      "metadata": {
        "colab": {
          "base_uri": "https://localhost:8080/"
        },
        "id": "4sSKr7wo6u2r",
        "outputId": "ab986c04-b052-43be-fe78-5ff9704d96c3"
      },
      "outputs": [
        {
          "name": "stdout",
          "output_type": "stream",
          "text": [
            "time: 22.9 ms (started: 2021-03-15 00:16:44 +00:00)\n"
          ]
        }
      ],
      "source": [
        "forecast.compile(optimizer=tf.optimizers.Adam(learning_rate=0.01), loss='mse')"
      ]
    },
    {
      "cell_type": "code",
      "execution_count": null,
      "metadata": {
        "id": "T_zMcNnR4Ir1"
      },
      "outputs": [],
      "source": [
        "history_forecasting=forecast.fit(x_train, y_train, epochs=70,callbacks=[early_stop],validation_split=0.2)"
      ]
    },
    {
      "cell_type": "code",
      "execution_count": null,
      "metadata": {
        "colab": {
          "base_uri": "https://localhost:8080/"
        },
        "id": "nnEy9zWP0Ao7",
        "outputId": "294a15bb-ca30-4923-a661-846f9806df0e"
      },
      "outputs": [
        {
          "name": "stdout",
          "output_type": "stream",
          "text": [
            "Model: \"model_1\"\n",
            "__________________________________________________________________________________________________\n",
            "Layer (type)                    Output Shape         Param #     Connected to                     \n",
            "==================================================================================================\n",
            "input_1 (InputLayer)            [(None, 96, 1)]      0                                            \n",
            "__________________________________________________________________________________________________\n",
            "bidirectional (Bidirectional)   (None, 48)           4992        input_1[0][0]                    \n",
            "__________________________________________________________________________________________________\n",
            "dense (Dense)                   (None, 24)           1176        bidirectional[0][0]              \n",
            "__________________________________________________________________________________________________\n",
            "dense_1 (Dense)                 (None, 24)           1176        bidirectional[0][0]              \n",
            "__________________________________________________________________________________________________\n",
            "lambda_1 (Lambda)               (None, 24)           0           dense[0][0]                      \n",
            "                                                                 dense_1[0][0]                    \n",
            "__________________________________________________________________________________________________\n",
            "dense_3 (Dense)                 (None, 1)            25          lambda_1[0][0]                   \n",
            "==================================================================================================\n",
            "Total params: 7,369\n",
            "Trainable params: 7,369\n",
            "Non-trainable params: 0\n",
            "__________________________________________________________________________________________________\n",
            "time: 12.5 ms (started: 2021-03-15 00:21:16 +00:00)\n"
          ]
        }
      ],
      "source": [
        "forecast.summary()"
      ]
    },
    {
      "cell_type": "code",
      "execution_count": null,
      "metadata": {
        "colab": {
          "base_uri": "https://localhost:8080/"
        },
        "id": "O0cyAL7SEhL2",
        "outputId": "24c0fd33-b224-401f-f8c8-9a21fc75b375"
      },
      "outputs": [
        {
          "name": "stdout",
          "output_type": "stream",
          "text": [
            "(0,)\n"
          ]
        }
      ],
      "source": [
        "w1=np.array(forecast.layers[0].get_weights())\n",
        "print(w1.shape)"
      ]
    },
    {
      "cell_type": "code",
      "execution_count": null,
      "metadata": {
        "colab": {
          "base_uri": "https://localhost:8080/"
        },
        "id": "CLPDDNKR_9XG",
        "outputId": "d8c7faf7-77dd-4d4c-f6df-b8cf933d9481"
      },
      "outputs": [
        {
          "name": "stdout",
          "output_type": "stream",
          "text": [
            "(6,)\n",
            "(1, 96)\n",
            "(24, 96)\n",
            "(96,)\n",
            "(1, 96)\n",
            "(24, 96)\n",
            "(96,)\n",
            "time: 8.25 ms (started: 2021-03-12 07:02:09 +00:00)\n"
          ]
        }
      ],
      "source": [
        "#print(forecast.layers)\n",
        "w1=np.array(forecast.layers[1].get_weights())\n",
        "print(w1.shape)\n",
        "print(w1[0].shape)\n",
        "print(w1[1].shape)\n",
        "print(w1[2].shape)\n",
        "print(w1[3].shape)\n",
        "print(w1[4].shape)\n",
        "print(w1[5].shape)"
      ]
    },
    {
      "cell_type": "code",
      "execution_count": null,
      "metadata": {
        "colab": {
          "base_uri": "https://localhost:8080/"
        },
        "id": "N2nj9bOwEscO",
        "outputId": "cd4efed3-122b-472e-fe95-523d1eb80370"
      },
      "outputs": [
        {
          "name": "stdout",
          "output_type": "stream",
          "text": [
            "(2,)\n",
            "(48, 24)\n",
            "(24,)\n"
          ]
        }
      ],
      "source": [
        "w1=np.array(forecast.layers[2].get_weights())\n",
        "print(w1.shape)\n",
        "print(w1[0].shape)\n",
        "print(w1[1].shape)"
      ]
    },
    {
      "cell_type": "code",
      "execution_count": null,
      "metadata": {
        "colab": {
          "base_uri": "https://localhost:8080/"
        },
        "id": "yT9bxIKTEzYw",
        "outputId": "4ab14213-c575-47b0-aaa7-0ee7695a8165"
      },
      "outputs": [
        {
          "name": "stdout",
          "output_type": "stream",
          "text": [
            "(2,)\n",
            "(48, 24)\n",
            "(24,)\n"
          ]
        }
      ],
      "source": [
        "w1=np.array(forecast.layers[3].get_weights())\n",
        "print(w1.shape)\n",
        "print(w1[0].shape)\n",
        "print(w1[1].shape)"
      ]
    },
    {
      "cell_type": "code",
      "execution_count": null,
      "metadata": {
        "colab": {
          "base_uri": "https://localhost:8080/"
        },
        "id": "ikTble7sE-0F",
        "outputId": "9dfc64a5-6b38-4b0d-a733-b25e4cdbf880"
      },
      "outputs": [
        {
          "name": "stdout",
          "output_type": "stream",
          "text": [
            "(0,)\n",
            "time: 1.33 ms (started: 2021-03-11 02:18:38 +00:00)\n"
          ]
        }
      ],
      "source": [
        "w1=np.array(forecast.layers[4].get_weights())\n",
        "print(w1.shape)"
      ]
    },
    {
      "cell_type": "code",
      "execution_count": null,
      "metadata": {
        "colab": {
          "base_uri": "https://localhost:8080/"
        },
        "id": "zy3D3Ff2D3LL",
        "outputId": "8b05b63d-3592-4c25-a73e-3934e169100e"
      },
      "outputs": [
        {
          "name": "stdout",
          "output_type": "stream",
          "text": [
            "time: 102 ms (started: 2021-03-12 02:33:39 +00:00)\n"
          ]
        }
      ],
      "source": [
        "pr=forecast(x_test)"
      ]
    },
    {
      "cell_type": "code",
      "execution_count": null,
      "metadata": {
        "colab": {
          "base_uri": "https://localhost:8080/"
        },
        "id": "2ddo4Vbg7VVh",
        "outputId": "0f88f342-238a-40b6-8401-92ea52da6641"
      },
      "outputs": [
        {
          "name": "stdout",
          "output_type": "stream",
          "text": [
            "time: 609 ms (started: 2021-03-15 00:21:29 +00:00)\n"
          ]
        }
      ],
      "source": [
        "y_pred=forecast.predict(x_test)"
      ]
    },
    {
      "cell_type": "code",
      "execution_count": null,
      "metadata": {
        "colab": {
          "base_uri": "https://localhost:8080/"
        },
        "id": "U3LbcXY07hdM",
        "outputId": "25ea8c3b-9bd3-4680-8ed0-b4284a5a2f18"
      },
      "outputs": [
        {
          "name": "stdout",
          "output_type": "stream",
          "text": [
            "mse= 0.0059371345362372015\n",
            "RMSE= 0.07705280355858053\n",
            "MAE= 0.039145632435467044\n",
            "r2_Score= 0.929883558703143\n",
            "time: 11.1 ms (started: 2021-03-15 00:21:31 +00:00)\n"
          ]
        }
      ],
      "source": [
        "from sklearn.metrics import mean_squared_error\n",
        "from sklearn.metrics import mean_absolute_error\n",
        "from sklearn.metrics import r2_score\n",
        "import math\n",
        "error=mean_squared_error(y_test,y_pred)\n",
        "print(\"mse=\",error)\n",
        "rmse=math.sqrt(error)\n",
        "print(\"RMSE=\",rmse)\n",
        "\n",
        "mae=mean_absolute_error(y_test,y_pred)\n",
        "print(\"MAE=\",mae)\n",
        "\n",
        "Rscore=r2_score(y_test,y_pred)\n",
        "print(\"r2_Score=\",Rscore)"
      ]
    },
    {
      "cell_type": "code",
      "execution_count": null,
      "metadata": {
        "colab": {
          "base_uri": "https://localhost:8080/",
          "height": 409
        },
        "id": "uvtIfM1Cmv4S",
        "outputId": "f53107c9-ade1-4351-949f-7cb21cda1393"
      },
      "outputs": [
        {
          "data": {
            "image/png": "[encoded data removed]",
            "text/plain": [
              "<Figure size 720x432 with 1 Axes>"
            ]
          },
          "metadata": {
            "tags": []
          },
          "output_type": "display_data"
        },
        {
          "name": "stdout",
          "output_type": "stream",
          "text": [
            "time: 330 ms (started: 2021-03-13 00:14:04 +00:00)\n"
          ]
        }
      ],
      "source": [
        "import numpy as np\n",
        "#test vs predictions\n",
        "def plot_future(prediction, model_name, y_test):\n",
        "  plt.figure(figsize=(10,6))\n",
        "  plt.plot(y_test[0:336],label='Actual')\n",
        "  plt.plot(y_mean[0:336],label='predicted')\n",
        "  #plt.title('Ground truth vs prediction')\n",
        "  plt.legend(loc='upper left')\n",
        "  plt.xlabel('Time (half hourly)', fontsize=\"large\")\n",
        "  plt.ylabel('Solar generation (Normalised)', fontsize=\"large\")\n",
        "  plt.savefig(\"vae_forecasting\")\n",
        "plot_future(y_mean,forecast,y_test)"
      ]
    },
    {
      "cell_type": "code",
      "execution_count": null,
      "metadata": {
        "colab": {
          "base_uri": "https://localhost:8080/"
        },
        "id": "IeV-USnflVTO",
        "outputId": "bc6dd5f1-7e65-4dd9-bd91-b61fae902af2"
      },
      "outputs": [
        {
          "name": "stdout",
          "output_type": "stream",
          "text": [
            "Collecting tensorflow-addons\n",
            "\u001b[?25l  Downloading https://files.pythonhosted.org/packages/74/e3/56d2fe76f0bb7c88ed9b2a6a557e25e83e252aec08f13de34369cd850a0b/tensorflow_addons-0.12.1-cp37-cp37m-manylinux2010_x86_64.whl (703kB)\n",
            "\r\u001b[K     |▌                               | 10kB 11.1MB/s eta 0:00:01\r\u001b[K     |█                               | 20kB 15.1MB/s eta 0:00:01\r\u001b[K     |█▍                              | 30kB 10.6MB/s eta 0:00:01\r\u001b[K     |█▉                              | 40kB 8.2MB/s eta 0:00:01\r\u001b[K     |██▎                             | 51kB 5.5MB/s eta 0:00:01\r\u001b[K     |██▉                             | 61kB 6.3MB/s eta 0:00:01\r\u001b[K     |███▎                            | 71kB 5.7MB/s eta 0:00:01\r\u001b[K     |███▊                            | 81kB 6.2MB/s eta 0:00:01\r\u001b[K     |████▏                           | 92kB 6.2MB/s eta 0:00:01\r\u001b[K     |████▋                           | 102kB 6.7MB/s eta 0:00:01\r\u001b[K     |█████▏                          | 112kB 6.7MB/s eta 0:00:01\r\u001b[K     |█████▋                          | 122kB 6.7MB/s eta 0:00:01\r\u001b[K     |██████                          | 133kB 6.7MB/s eta 0:00:01\r\u001b[K     |██████▌                         | 143kB 6.7MB/s eta 0:00:01\r\u001b[K     |███████                         | 153kB 6.7MB/s eta 0:00:01\r\u001b[K     |███████▌                        | 163kB 6.7MB/s eta 0:00:01\r\u001b[K     |████████                        | 174kB 6.7MB/s eta 0:00:01\r\u001b[K     |████████▍                       | 184kB 6.7MB/s eta 0:00:01\r\u001b[K     |████████▉                       | 194kB 6.7MB/s eta 0:00:01\r\u001b[K     |█████████▎                      | 204kB 6.7MB/s eta 0:00:01\r\u001b[K     |█████████▉                      | 215kB 6.7MB/s eta 0:00:01\r\u001b[K     |██████████▎                     | 225kB 6.7MB/s eta 0:00:01\r\u001b[K     |██████████▊                     | 235kB 6.7MB/s eta 0:00:01\r\u001b[K     |███████████▏                    | 245kB 6.7MB/s eta 0:00:01\r\u001b[K     |███████████▋                    | 256kB 6.7MB/s eta 0:00:01\r\u001b[K     |████████████▏                   | 266kB 6.7MB/s eta 0:00:01\r\u001b[K     |████████████▋                   | 276kB 6.7MB/s eta 0:00:01\r\u001b[K     |█████████████                   | 286kB 6.7MB/s eta 0:00:01\r\u001b[K     |█████████████▌                  | 296kB 6.7MB/s eta 0:00:01\r\u001b[K     |██████████████                  | 307kB 6.7MB/s eta 0:00:01\r\u001b[K     |██████████████▍                 | 317kB 6.7MB/s eta 0:00:01\r\u001b[K     |███████████████                 | 327kB 6.7MB/s eta 0:00:01\r\u001b[K     |███████████████▍                | 337kB 6.7MB/s eta 0:00:01\r\u001b[K     |███████████████▉                | 348kB 6.7MB/s eta 0:00:01\r\u001b[K     |████████████████▎               | 358kB 6.7MB/s eta 0:00:01\r\u001b[K     |████████████████▊               | 368kB 6.7MB/s eta 0:00:01\r\u001b[K     |█████████████████▎              | 378kB 6.7MB/s eta 0:00:01\r\u001b[K     |█████████████████▊              | 389kB 6.7MB/s eta 0:00:01\r\u001b[K     |██████████████████▏             | 399kB 6.7MB/s eta 0:00:01\r\u001b[K     |██████████████████▋             | 409kB 6.7MB/s eta 0:00:01\r\u001b[K     |███████████████████             | 419kB 6.7MB/s eta 0:00:01\r\u001b[K     |███████████████████▋            | 430kB 6.7MB/s eta 0:00:01\r\u001b[K     |████████████████████            | 440kB 6.7MB/s eta 0:00:01\r\u001b[K     |████████████████████▌           | 450kB 6.7MB/s eta 0:00:01\r\u001b[K     |█████████████████████           | 460kB 6.7MB/s eta 0:00:01\r\u001b[K     |█████████████████████▍          | 471kB 6.7MB/s eta 0:00:01\r\u001b[K     |██████████████████████          | 481kB 6.7MB/s eta 0:00:01\r\u001b[K     |██████████████████████▍         | 491kB 6.7MB/s eta 0:00:01\r\u001b[K     |██████████████████████▉         | 501kB 6.7MB/s eta 0:00:01\r\u001b[K     |███████████████████████▎        | 512kB 6.7MB/s eta 0:00:01\r\u001b[K     |███████████████████████▊        | 522kB 6.7MB/s eta 0:00:01\r\u001b[K     |████████████████████████▎       | 532kB 6.7MB/s eta 0:00:01\r\u001b[K     |████████████████████████▊       | 542kB 6.7MB/s eta 0:00:01\r\u001b[K     |█████████████████████████▏      | 552kB 6.7MB/s eta 0:00:01\r\u001b[K     |█████████████████████████▋      | 563kB 6.7MB/s eta 0:00:01\r\u001b[K     |██████████████████████████      | 573kB 6.7MB/s eta 0:00:01\r\u001b[K     |██████████████████████████▋     | 583kB 6.7MB/s eta 0:00:01\r\u001b[K     |███████████████████████████     | 593kB 6.7MB/s eta 0:00:01\r\u001b[K     |███████████████████████████▌    | 604kB 6.7MB/s eta 0:00:01\r\u001b[K     |████████████████████████████    | 614kB 6.7MB/s eta 0:00:01\r\u001b[K     |████████████████████████████▍   | 624kB 6.7MB/s eta 0:00:01\r\u001b[K     |████████████████████████████▉   | 634kB 6.7MB/s eta 0:00:01\r\u001b[K     |█████████████████████████████▍  | 645kB 6.7MB/s eta 0:00:01\r\u001b[K     |█████████████████████████████▉  | 655kB 6.7MB/s eta 0:00:01\r\u001b[K     |██████████████████████████████▎ | 665kB 6.7MB/s eta 0:00:01\r\u001b[K     |██████████████████████████████▊ | 675kB 6.7MB/s eta 0:00:01\r\u001b[K     |███████████████████████████████▏| 686kB 6.7MB/s eta 0:00:01\r\u001b[K     |███████████████████████████████▊| 696kB 6.7MB/s eta 0:00:01\r\u001b[K     |████████████████████████████████| 706kB 6.7MB/s \n",
            "\u001b[?25hRequirement already satisfied: typeguard>=2.7 in /usr/local/lib/python3.7/dist-packages (from tensorflow-addons) (2.7.1)\n",
            "Installing collected packages: tensorflow-addons\n",
            "Successfully installed tensorflow-addons-0.12.1\n",
            "avg: 0.14273258\n",
            "time: 4.81 s (started: 2021-03-15 00:22:43 +00:00)\n"
          ]
        }
      ],
      "source": [
        "!pip install tensorflow-addons\n",
        "import tensorflow_addons as tfa\n",
        "\n",
        "import numpy as np\n",
        "\n",
        "for i in np.arange(0.01, 0.99, 0.01):\n",
        "  pinball=tfa.losses.pinball_loss(y_test,y_pred,tau=i)\n",
        "  p=np.mean(pinball)\n",
        "\n",
        "avg=np.mean(p)\n",
        "print(\"avg:\",avg)"
      ]
    }
  ],
  "metadata": {
    "accelerator": "TPU",
    "colab": {
      "provenance": [],
      "authorship_tag": "ABX9TyP4bFuMUdJShzs4a109dsr7",
      "include_colab_link": true
    },
    "kernelspec": {
      "display_name": "Python 3",
      "name": "python3"
    }
  },
  "nbformat": 4,
  "nbformat_minor": 0
}